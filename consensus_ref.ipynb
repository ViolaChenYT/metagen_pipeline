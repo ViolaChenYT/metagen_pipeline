{
 "cells": [
  {
   "cell_type": "code",
   "execution_count": 1,
   "metadata": {},
   "outputs": [],
   "source": [
    "import numpy as np\n",
    "import pandas as pd\n",
    "import matplotlib.pyplot as plt\n",
    "import seaborn as sns\n",
    "import pysam\n",
    "import copy"
   ]
  },
  {
   "cell_type": "code",
   "execution_count": 2,
   "metadata": {},
   "outputs": [],
   "source": [
    "def parse_vcf(fname):\n",
    "    yield from pysam.VariantFile(fname).fetch()\n",
    "\n",
    "\n",
    "def extract_vcf_stat(fname):\n",
    "    ''' extract important fields from a VCF file:\n",
    "        - contig name\n",
    "        - position\n",
    "        - reference and alternate alleles\n",
    "        - strand bias, coverage, allele frequency\n",
    "    '''\n",
    "    return pd.DataFrame((\n",
    "        {\n",
    "            'contig': record.contig,\n",
    "            'position': int(record.pos),\n",
    "            'ref': record.alleles[0],\n",
    "            'alt': alt,\n",
    "            'SB': record.info[\"SB\"],\n",
    "            'DP': record.info[\"DP\"],\n",
    "            'AF': str(record.info[\"AF\"]).split(',')[idx],\n",
    "        }\n",
    "        for record in parse_vcf(fname)\n",
    "        for idx, alt in enumerate(record.alts)\n",
    "    )\n",
    "    )"
   ]
  },
  {
   "cell_type": "code",
   "execution_count": 3,
   "metadata": {},
   "outputs": [],
   "source": [
    "def get_contigs(ref):\n",
    "  '''@param: ref: *.fasta/fna/fa file containing the reference sequence\n",
    "     @returns: a dictionary [name of contigs] -> (a string containing the entire contig sequence\n",
    "  '''\n",
    "  contigs = dict()\n",
    "  with open(ref, \"r\") as f:\n",
    "    lines = f.readlines()\n",
    "    current_contig = \"\"\n",
    "    contig_name = \"\"\n",
    "    for line in lines:\n",
    "      if line[0] == \">\":\n",
    "        if contig_name != \"\":\n",
    "          contigs[contig_name] = current_contig\n",
    "        contig_name = ((line.split()[0])[1:]).strip()\n",
    "        current_contig = \"\"\n",
    "      else: \n",
    "        current_contig += line.strip()\n",
    "          # print(contig)\n",
    "    contigs[contig_name] = current_contig\n",
    "    f.close()\n",
    "  return contigs"
   ]
  },
  {
   "cell_type": "code",
   "execution_count": 5,
   "metadata": {},
   "outputs": [],
   "source": [
    "def ref_correction(vcf, ref, output, threshold=0.9, indel=False):\n",
    "  ''' modify fasta to be consensus according to the vcf '''\n",
    "  vcf_df = extract_vcf_stat(vcf)\n",
    "  contigs = get_contigs(ref)\n",
    "  modified_ref = ref[:ref.rfind(\"/\")+1]+output+ref[ref.rfind(\"/\")+1:]\n",
    "  if not indel:\n",
    "    def f(row):\n",
    "      contig = row[\"contig\"] \n",
    "      if float(row['AF']) > threshold:\n",
    "        pos = row[\"position\"]\n",
    "        # print(contig, row['AF'], pos)\n",
    "        contigs[contig] = contigs[contig][:pos] + row[\"alt\"] + contigs[contig][pos+1:]\n",
    "    _ = vcf_df.apply(f, axis=1)\n",
    "    f = open(modified_ref,\"w\")\n",
    "    for key in contigs.keys():\n",
    "      f.write(\">\"+key+\"\\n\")\n",
    "      f.write(contigs[key]+\"\\n\")\n",
    "    f.close()\n",
    "  else:\n",
    "    print(\"To be implemented\")"
   ]
  },
  {
   "cell_type": "code",
   "execution_count": 6,
   "metadata": {},
   "outputs": [
    {
     "name": "stderr",
     "output_type": "stream",
     "text": [
      "[W::vcf_parse] Contig 'NZ_CP025979.1' is not defined in the header. (Quick workaround: index the file with tabix.)\n",
      "[W::vcf_parse] Contig 'NZ_CP025980.1' is not defined in the header. (Quick workaround: index the file with tabix.)\n"
     ]
    }
   ],
   "source": [
    "vcf = \"./output/isolate_jumbo_read_diff_from_ref/abundant_species.filt.vcf\"\n",
    "ref = \"./refs/fna_seq/Escherichia_marmotae.fasta\"\n",
    "ref_correction(vcf, ref, \"modified_\")"
   ]
  },
  {
   "cell_type": "code",
   "execution_count": 7,
   "metadata": {},
   "outputs": [
    {
     "name": "stderr",
     "output_type": "stream",
     "text": [
      "[W::vcf_parse] Contig 'NZ_CP025979.1' is not defined in the header. (Quick workaround: index the file with tabix.)\n",
      "[W::vcf_parse] Contig 'NZ_CP025980.1' is not defined in the header. (Quick workaround: index the file with tabix.)\n",
      "[W::vcf_parse] Contig 'NZ_CP025981.1' is not defined in the header. (Quick workaround: index the file with tabix.)\n"
     ]
    }
   ],
   "source": [
    "vcf = \"./output/isolate_jumbo_read_not_very_diff_from_ref/abundant_species.filt.vcf\"\n",
    "ref = \"./refs/fna_seq/Escherichia_marmotae.fasta\"\n",
    "ref_correction(vcf, ref, \"modified1_\")"
   ]
  },
  {
   "cell_type": "code",
   "execution_count": null,
   "metadata": {},
   "outputs": [],
   "source": [
    "vcf = \"./output/isolate_jumbo_read_diff_from_ref_indel/abundant_species.filt.vcf\"\n",
    "ref = \"./refs/fna_seq/Escherichia_marmotae.fasta\"\n",
    "ref_correction(vcf, ref, \"modified_indel_\", indel=True)"
   ]
  },
  {
   "cell_type": "code",
   "execution_count": null,
   "metadata": {},
   "outputs": [],
   "source": [
    "# find contig of the variant\n",
    "# find original position of the variant\n",
    "# if it's not the consensus base, change it"
   ]
  }
 ],
 "metadata": {
  "kernelspec": {
   "display_name": "myenv",
   "language": "python",
   "name": "myenv"
  },
  "language_info": {
   "codemirror_mode": {
    "name": "ipython",
    "version": 3
   },
   "file_extension": ".py",
   "mimetype": "text/x-python",
   "name": "python",
   "nbconvert_exporter": "python",
   "pygments_lexer": "ipython3",
   "version": "3.9.13"
  },
  "orig_nbformat": 4,
  "vscode": {
   "interpreter": {
    "hash": "31f2aee4e71d21fbe5cf8b01ff0e069b9275f58929596ceb00d14d90e3e16cd6"
   }
  }
 },
 "nbformat": 4,
 "nbformat_minor": 2
}
